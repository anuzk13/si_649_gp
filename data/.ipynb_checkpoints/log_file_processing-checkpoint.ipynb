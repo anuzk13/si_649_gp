{
 "cells": [
  {
   "cell_type": "code",
   "execution_count": 2,
   "metadata": {},
   "outputs": [],
   "source": [
    "# Render our plots inline\n",
    "%matplotlib inline\n",
    "\n",
    "import pandas as pd\n",
    "import matplotlib.pyplot as plt\n",
    "import numpy as np\n",
    "pd.set_option('mode.chained_assignment', None)"
   ]
  },
  {
   "cell_type": "code",
   "execution_count": 3,
   "metadata": {},
   "outputs": [],
   "source": [
    "log_file = pd.read_csv('log11-18.csv')"
   ]
  },
  {
   "cell_type": "code",
   "execution_count": 4,
   "metadata": {},
   "outputs": [
    {
     "data": {
      "text/html": [
       "<div>\n",
       "<style scoped>\n",
       "    .dataframe tbody tr th:only-of-type {\n",
       "        vertical-align: middle;\n",
       "    }\n",
       "\n",
       "    .dataframe tbody tr th {\n",
       "        vertical-align: top;\n",
       "    }\n",
       "\n",
       "    .dataframe thead th {\n",
       "        text-align: right;\n",
       "    }\n",
       "</style>\n",
       "<table border=\"1\" class=\"dataframe\">\n",
       "  <thead>\n",
       "    <tr style=\"text-align: right;\">\n",
       "      <th></th>\n",
       "      <th>Unnamed: 0</th>\n",
       "      <th>id</th>\n",
       "      <th>timestamp</th>\n",
       "      <th>sid</th>\n",
       "      <th>event</th>\n",
       "      <th>act</th>\n",
       "      <th>div_id</th>\n",
       "      <th>course_id</th>\n",
       "      <th>base_course</th>\n",
       "    </tr>\n",
       "  </thead>\n",
       "  <tbody>\n",
       "    <tr>\n",
       "      <th>0</th>\n",
       "      <td>0</td>\n",
       "      <td>1760</td>\n",
       "      <td>2017-08-13 20:23:59</td>\n",
       "      <td>301304554400186198747097533764849583054@208.15...</td>\n",
       "      <td>page</td>\n",
       "      <td>view</td>\n",
       "      <td>index.html</td>\n",
       "      <td>47.0</td>\n",
       "      <td>apcsareview</td>\n",
       "    </tr>\n",
       "    <tr>\n",
       "      <th>1</th>\n",
       "      <td>1</td>\n",
       "      <td>1778</td>\n",
       "      <td>2017-08-13 23:14:25</td>\n",
       "      <td>del1</td>\n",
       "      <td>page</td>\n",
       "      <td>view</td>\n",
       "      <td>index.html</td>\n",
       "      <td>29.0</td>\n",
       "      <td>apcsareview</td>\n",
       "    </tr>\n",
       "    <tr>\n",
       "      <th>2</th>\n",
       "      <td>2</td>\n",
       "      <td>1779</td>\n",
       "      <td>2017-08-13 23:17:48</td>\n",
       "      <td>del1</td>\n",
       "      <td>page</td>\n",
       "      <td>view</td>\n",
       "      <td>VariableBasics/operators.html</td>\n",
       "      <td>29.0</td>\n",
       "      <td>apcsareview</td>\n",
       "    </tr>\n",
       "  </tbody>\n",
       "</table>\n",
       "</div>"
      ],
      "text/plain": [
       "   Unnamed: 0    id            timestamp  \\\n",
       "0           0  1760  2017-08-13 20:23:59   \n",
       "1           1  1778  2017-08-13 23:14:25   \n",
       "2           2  1779  2017-08-13 23:17:48   \n",
       "\n",
       "                                                 sid event   act  \\\n",
       "0  301304554400186198747097533764849583054@208.15...  page  view   \n",
       "1                                               del1  page  view   \n",
       "2                                               del1  page  view   \n",
       "\n",
       "                          div_id  course_id  base_course  \n",
       "0                     index.html       47.0  apcsareview  \n",
       "1                     index.html       29.0  apcsareview  \n",
       "2  VariableBasics/operators.html       29.0  apcsareview  "
      ]
     },
     "execution_count": 4,
     "metadata": {},
     "output_type": "execute_result"
    }
   ],
   "source": [
    "log_file[:3]"
   ]
  },
  {
   "cell_type": "code",
   "execution_count": 5,
   "metadata": {},
   "outputs": [],
   "source": [
    "log_file = log_file.loc[log_file['base_course'].str.startswith('StudentCSP', na=False)]"
   ]
  },
  {
   "cell_type": "code",
   "execution_count": 6,
   "metadata": {},
   "outputs": [],
   "source": [
    "pretest_logs = log_file.loc[log_file['div_id'].str.startswith('pre_', na=False)] "
   ]
  },
  {
   "cell_type": "code",
   "execution_count": 7,
   "metadata": {},
   "outputs": [],
   "source": [
    "pretest_logs['pretest_score'] = np.where(pretest_logs['act'].str.endswith('correct', na=False), 1, 0)"
   ]
  },
  {
   "cell_type": "code",
   "execution_count": 8,
   "metadata": {},
   "outputs": [
    {
     "data": {
      "text/html": [
       "<div>\n",
       "<style scoped>\n",
       "    .dataframe tbody tr th:only-of-type {\n",
       "        vertical-align: middle;\n",
       "    }\n",
       "\n",
       "    .dataframe tbody tr th {\n",
       "        vertical-align: top;\n",
       "    }\n",
       "\n",
       "    .dataframe thead th {\n",
       "        text-align: right;\n",
       "    }\n",
       "</style>\n",
       "<table border=\"1\" class=\"dataframe\">\n",
       "  <thead>\n",
       "    <tr style=\"text-align: right;\">\n",
       "      <th></th>\n",
       "      <th>Unnamed: 0</th>\n",
       "      <th>id</th>\n",
       "      <th>timestamp</th>\n",
       "      <th>sid</th>\n",
       "      <th>event</th>\n",
       "      <th>act</th>\n",
       "      <th>div_id</th>\n",
       "      <th>course_id</th>\n",
       "      <th>base_course</th>\n",
       "      <th>pretest_score</th>\n",
       "    </tr>\n",
       "  </thead>\n",
       "  <tbody>\n",
       "    <tr>\n",
       "      <th>305</th>\n",
       "      <td>305</td>\n",
       "      <td>10247</td>\n",
       "      <td>2017-08-18 20:42:42</td>\n",
       "      <td>271926861551350033289774502469454480334@146.16...</td>\n",
       "      <td>mChoice</td>\n",
       "      <td>answer:1:correct</td>\n",
       "      <td>pre_1</td>\n",
       "      <td>213.0</td>\n",
       "      <td>StudentCSP</td>\n",
       "      <td>1</td>\n",
       "    </tr>\n",
       "    <tr>\n",
       "      <th>306</th>\n",
       "      <td>306</td>\n",
       "      <td>10248</td>\n",
       "      <td>2017-08-18 20:42:42</td>\n",
       "      <td>271926861551350033289774502469454480334@146.16...</td>\n",
       "      <td>mChoice</td>\n",
       "      <td>answer:2:correct</td>\n",
       "      <td>pre_7</td>\n",
       "      <td>213.0</td>\n",
       "      <td>StudentCSP</td>\n",
       "      <td>1</td>\n",
       "    </tr>\n",
       "    <tr>\n",
       "      <th>307</th>\n",
       "      <td>307</td>\n",
       "      <td>10249</td>\n",
       "      <td>2017-08-18 20:42:43</td>\n",
       "      <td>271926861551350033289774502469454480334@146.16...</td>\n",
       "      <td>mChoice</td>\n",
       "      <td>answer:0:no</td>\n",
       "      <td>pre_5</td>\n",
       "      <td>213.0</td>\n",
       "      <td>StudentCSP</td>\n",
       "      <td>0</td>\n",
       "    </tr>\n",
       "    <tr>\n",
       "      <th>308</th>\n",
       "      <td>308</td>\n",
       "      <td>10250</td>\n",
       "      <td>2017-08-18 20:42:43</td>\n",
       "      <td>271926861551350033289774502469454480334@146.16...</td>\n",
       "      <td>mChoice</td>\n",
       "      <td>answer:0:no</td>\n",
       "      <td>pre_4</td>\n",
       "      <td>213.0</td>\n",
       "      <td>StudentCSP</td>\n",
       "      <td>0</td>\n",
       "    </tr>\n",
       "    <tr>\n",
       "      <th>309</th>\n",
       "      <td>309</td>\n",
       "      <td>10251</td>\n",
       "      <td>2017-08-18 20:42:43</td>\n",
       "      <td>271926861551350033289774502469454480334@146.16...</td>\n",
       "      <td>mChoice</td>\n",
       "      <td>answer:2:correct</td>\n",
       "      <td>pre_6</td>\n",
       "      <td>213.0</td>\n",
       "      <td>StudentCSP</td>\n",
       "      <td>1</td>\n",
       "    </tr>\n",
       "  </tbody>\n",
       "</table>\n",
       "</div>"
      ],
      "text/plain": [
       "     Unnamed: 0     id            timestamp  \\\n",
       "305         305  10247  2017-08-18 20:42:42   \n",
       "306         306  10248  2017-08-18 20:42:42   \n",
       "307         307  10249  2017-08-18 20:42:43   \n",
       "308         308  10250  2017-08-18 20:42:43   \n",
       "309         309  10251  2017-08-18 20:42:43   \n",
       "\n",
       "                                                   sid    event  \\\n",
       "305  271926861551350033289774502469454480334@146.16...  mChoice   \n",
       "306  271926861551350033289774502469454480334@146.16...  mChoice   \n",
       "307  271926861551350033289774502469454480334@146.16...  mChoice   \n",
       "308  271926861551350033289774502469454480334@146.16...  mChoice   \n",
       "309  271926861551350033289774502469454480334@146.16...  mChoice   \n",
       "\n",
       "                  act div_id  course_id base_course  pretest_score  \n",
       "305  answer:1:correct  pre_1      213.0  StudentCSP              1  \n",
       "306  answer:2:correct  pre_7      213.0  StudentCSP              1  \n",
       "307       answer:0:no  pre_5      213.0  StudentCSP              0  \n",
       "308       answer:0:no  pre_4      213.0  StudentCSP              0  \n",
       "309  answer:2:correct  pre_6      213.0  StudentCSP              1  "
      ]
     },
     "execution_count": 8,
     "metadata": {},
     "output_type": "execute_result"
    }
   ],
   "source": [
    "pretest_logs.head()"
   ]
  },
  {
   "cell_type": "code",
   "execution_count": 10,
   "metadata": {},
   "outputs": [],
   "source": [
    "#Interesting case of repeated logs, look also for 10 who has skipped a whole test and answered another one\n",
    "# pretest_logs.loc[pretest_logs['sid'] == '116558589813929226898517399943430489038@137.205.1.152']\n",
    "# if we wanted to have skippers vs not skippers\n",
    "# https://pandas.pydata.org/pandas-docs/stable/generated/pandas.core.groupby.DataFrameGroupBy.filter.html\n",
    "# pretest_logs['skipped'] = np.where(pretest_logs['act'].str.endswith('answer:undefined:no', na=False), True, False)\n",
    "# pretest_logs['not_skipped'] = np.where(pretest_logs['act'].str.endswith('answer:undefined:no', na=False), False, True)\n",
    "# student_scores_g = pretest_logs.groupby(['sid'])\n",
    "# skippers = student_scores_g.filter(lambda x: x['skipped'].any())\n",
    "# non_skippers = student_scores_g.filter(lambda x: x['not_skipped'].all())\n",
    "# skippers_unique_scores = skippers.groupby(['sid','div_id'])['pretest_score'].min().reset_index()\n",
    "# non_skippers_unique_scores = non_skippers.groupby(['sid','div_id'])['pretest_score'].min().reset_index()\n",
    "# non_skipper_score_sum = non_skippers_unique_scores.groupby(['sid'])['pretest_score'].sum().reset_index()\n",
    "# skipper_score_sum = skippers_unique_scores.groupby(['sid'])['pretest_score'].sum().reset_index()\n",
    "# [non_skipper_score_sum.size, skipper_score_sum.size]"
   ]
  },
  {
   "cell_type": "code",
   "execution_count": 50,
   "metadata": {},
   "outputs": [],
   "source": [
    "# Create groups of pretest scores by students\n",
    "students_unique_scores = pretest_logs.groupby(['sid','div_id'])['pretest_score'].min().reset_index()\n",
    "s_total_score = students_unique_scores.groupby(['sid'])['pretest_score'].sum().reset_index()\n",
    "score_groups = {}\n",
    "group_scores = [6,12]\n",
    "for score in group_scores:\n",
    "    score_groups[score] = s_total_score[\"sid\"][(s_total_score[\"pretest_score\"] >= score - 6) & (s_total_score[\"pretest_score\"]  < score)]\n",
    "not_pre_test = set(log_file[\"sid\"])\n",
    "for score in group_scores:\n",
    "     not_pre_test = not_pre_test - set(score_groups[score])\n",
    "group_scores.append('no_pretest')\n",
    "score_groups['no_pretest'] = pd.Series(list(not_pre_test))"
   ]
  },
  {
   "cell_type": "code",
   "execution_count": 48,
   "metadata": {},
   "outputs": [],
   "source": [
    "#examns\n",
    "exams_logs = log_file.loc[log_file['div_id'].str.startswith('e24', na=False)]"
   ]
  },
  {
   "cell_type": "code",
   "execution_count": 85,
   "metadata": {
    "scrolled": true
   },
   "outputs": [],
   "source": [
    "exams_logs['exam_name'] = exams_logs['div_id'].str.split('_').str[1]\n",
    "exams_logs['exam_score'] = np.where(exams_logs['act'].str.endswith('correct', na=False), 1, 0)\n",
    "exams_logs_unique_scores = exams_logs.groupby(['sid','div_id','exam_name'])['exam_score'].min().reset_index()\n",
    "e_total_score = exams_logs_unique_scores.groupby(['exam_name','sid'])['exam_score'].sum().reset_index()\n",
    "exam_names = ['1','2','3','4']\n",
    "exam_score_groups = {}\n",
    "exam_group_scores = [6,12]\n",
    "for e_name in exam_names:\n",
    "    for e_score in exam_group_scores:\n",
    "        exam_score_groups[e_name, e_score] = e_total_score[\"sid\"][(e_total_score[\"exam_score\"] >= e_score - 6) \n",
    "                                                         & (e_total_score[\"exam_score\"]  < e_score)\n",
    "                                                         & e_total_score[\"exam_name\"].str.startswith(e_name, na=False)]\n",
    "for e_name in exam_names:\n",
    "    not_exams = set(log_file[\"sid\"])\n",
    "    for e_score in exam_group_scores:\n",
    "        not_exams = not_exams - set(exam_score_groups[e_name, e_score])\n",
    "    exam_score_groups[e_name,'no_exam'] = pd.Series(list(not_exams))\n",
    "exam_group_scores.append('no_exam')"
   ]
  },
  {
   "cell_type": "code",
   "execution_count": 97,
   "metadata": {},
   "outputs": [],
   "source": [
    "#parsons\n",
    "parsons_logs = log_file.loc[log_file['event'].str.endswith('parsons', na=False)\n",
    "                            # only the div that has a number should be included\n",
    "                            & log_file['div_id'].str.match('[0-9]*_', na=False)\n",
    "                           ]\n",
    "parsons_logs['parsons_score'] = np.where(parsons_logs['act'].str.startswith('correct', na=False), 1, 0)\n",
    "parsons_logs['parsons_chapter'] = parsons_logs['div_id'].str.split('_').str[0]\n",
    "parsons_logs_unique_scores = parsons_logs.groupby(['sid','div_id','parsons_chapter'])['parsons_score'].min().reset_index()"
   ]
  },
  {
   "cell_type": "code",
   "execution_count": 98,
   "metadata": {},
   "outputs": [],
   "source": [
    "p_score_groups = {}\n",
    "for e_name in exam_names:\n",
    "    for e_score in exam_group_scores:\n",
    "        for score in group_scores:\n",
    "            p_score_groups[score,e_name, e_score] = parsons_logs_unique_scores[ parsons_logs_unique_scores['sid'].isin(score_groups[score])\n",
    "                                                              & parsons_logs_unique_scores['sid'].isin(exam_score_groups[e_name, e_score])\n",
    "                                                              ]\n",
    "p_score_totals = {}\n",
    "for e_name in exam_names:\n",
    "    for e_score in exam_group_scores:\n",
    "        for score in group_scores:\n",
    "            p_score_totals[score,e_name, e_score] =  p_score_groups[score,e_name, e_score].groupby('parsons_chapter')['parsons_score'].agg(['sum','count']).reset_index()"
   ]
  },
  {
   "cell_type": "code",
   "execution_count": 99,
   "metadata": {},
   "outputs": [],
   "source": [
    "#multiple_choice\n",
    "mc_logs = log_file.loc[log_file['event'].str.endswith('mChoice', na=False) \n",
    "                            & log_file['div_id'].str.match('[0-9]*_', na=False)\n",
    "                           ]\n",
    "mc_logs['mc_score'] = np.where(mc_logs['act'].str.endswith('correct', na=False), 1, 0)\n",
    "mc_logs['mc_chapter'] = mc_logs['div_id'].str.split('_').str[0]\n",
    "mc_logs_unique_scores = mc_logs.groupby(['sid','div_id','mc_chapter'])['mc_score'].min().reset_index()"
   ]
  },
  {
   "cell_type": "code",
   "execution_count": 100,
   "metadata": {},
   "outputs": [],
   "source": [
    "m_c_score_groups = {}\n",
    "for e_name in exam_names:\n",
    "    for e_score in exam_group_scores:\n",
    "        for score in group_scores:\n",
    "            m_c_score_groups[score,e_name, e_score] = mc_logs_unique_scores[ mc_logs_unique_scores['sid'].isin(score_groups[score])\n",
    "                                                        & mc_logs_unique_scores['sid'].isin(exam_score_groups[e_name, e_score])\n",
    "                                                    ]\n",
    "m_c_score_totals = {}\n",
    "for e_name in exam_names:\n",
    "    for e_score in exam_group_scores:\n",
    "        for score in group_scores:\n",
    "            m_c_score_totals[score,e_name, e_score] =  m_c_score_groups[score,e_name, e_score].groupby('mc_chapter')['mc_score'].agg(['sum','count']).reset_index()"
   ]
  },
  {
   "cell_type": "code",
   "execution_count": 101,
   "metadata": {},
   "outputs": [],
   "source": [
    "#unit test\n",
    "ut_logs = log_file.loc[log_file['event'].str.endswith('unittest', na=False)]\n",
    "ut_logs['ut_score'] = np.where(ut_logs['act'].str.endswith('failed:1', na=False), 0, 1)\n",
    "ut_logs['ut_chapter'] = ut_logs['div_id'].str.split('_').str[1]\n",
    "ut_logs_unique_scores = ut_logs.groupby(['sid','div_id','ut_chapter'])['ut_score'].min().reset_index()"
   ]
  },
  {
   "cell_type": "code",
   "execution_count": 102,
   "metadata": {},
   "outputs": [],
   "source": [
    "ut_score_groups = {}\n",
    "for e_name in exam_names:\n",
    "    for e_score in exam_group_scores:\n",
    "        for score in group_scores:\n",
    "            ut_score_groups[score,e_name, e_score] = ut_logs_unique_scores[ ut_logs_unique_scores['sid'].isin(score_groups[score])\n",
    "                                                        & ut_logs_unique_scores['sid'].isin(exam_score_groups[e_name, e_score])\n",
    "                                                    ]\n",
    "ut_score_totals = {}\n",
    "for e_name in exam_names:\n",
    "    for e_score in exam_group_scores:\n",
    "        for score in group_scores:\n",
    "            ut_score_totals[score,e_name, e_score] =  ut_score_groups[score,e_name, e_score].groupby('ut_chapter')['ut_score'].agg(['sum','count']).reset_index()"
   ]
  },
  {
   "cell_type": "code",
   "execution_count": 103,
   "metadata": {},
   "outputs": [],
   "source": [
    "exam_arrays = {}\n",
    "for e_name in exam_names:\n",
    "    group_count = 0\n",
    "    exam_array = [['combo_id','pretest','exam2','student_count','event','div','percent_correct']]\n",
    "    for e_score in exam_group_scores:\n",
    "        for score in group_scores:\n",
    "            group_count = group_count + 1\n",
    "            for div in m_c_score_totals[score,e_name, e_score].values:\n",
    "                exam_array.append([group_count,score,e_score,div[2],'mchoice',div[0], div[1]/div[2] * 100])\n",
    "            for div in p_score_totals[score,e_name, e_score].values:\n",
    "                exam_array.append([group_count,score,e_score,div[2],'parsons',div[0], div[1]/div[2] * 100])\n",
    "            for div in ut_score_totals[score,e_name, e_score].values:\n",
    "                exam_array.append([group_count,score,e_score,div[2],'unittest',div[0], div[1]/div[2] * 100])\n",
    "    exam_arrays[e_name] = exam_array"
   ]
  },
  {
   "cell_type": "code",
   "execution_count": 104,
   "metadata": {},
   "outputs": [],
   "source": [
    "for key in exam_arrays:\n",
    "    a = np.asarray(exam_arrays[key])\n",
    "    np.savetxt(\"exam\" + key + \".csv\", a, delimiter=\",\",  fmt='%s')"
   ]
  }
 ],
 "metadata": {
  "kernelspec": {
   "display_name": "Python 3",
   "language": "python",
   "name": "python3"
  },
  "language_info": {
   "codemirror_mode": {
    "name": "ipython",
    "version": 3
   },
   "file_extension": ".py",
   "mimetype": "text/x-python",
   "name": "python",
   "nbconvert_exporter": "python",
   "pygments_lexer": "ipython3",
   "version": "3.7.0"
  }
 },
 "nbformat": 4,
 "nbformat_minor": 2
}
